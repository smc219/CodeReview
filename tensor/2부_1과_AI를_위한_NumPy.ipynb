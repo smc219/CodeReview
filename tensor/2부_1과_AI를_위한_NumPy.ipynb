{
  "nbformat": 4,
  "nbformat_minor": 0,
  "metadata": {
    "colab": {
      "name": "2부_1과_AI를_위한_NumPy.ipynb",
      "provenance": [],
      "collapsed_sections": [
        "m8PG7iL4BGti",
        "i0WPWYWZPqw9"
      ],
      "include_colab_link": true
    },
    "kernelspec": {
      "name": "python3",
      "display_name": "Python 3"
    },
    "accelerator": "GPU"
  },
  "cells": [
    {
      "cell_type": "markdown",
      "metadata": {
        "id": "view-in-github",
        "colab_type": "text"
      },
      "source": [
        "<a href=\"https://colab.research.google.com/github/smc219/CodeReview/blob/master/tensor/2%EB%B6%80_1%EA%B3%BC_AI%EB%A5%BC_%EC%9C%84%ED%95%9C_NumPy.ipynb\" target=\"_parent\"><img src=\"https://colab.research.google.com/assets/colab-badge.svg\" alt=\"Open In Colab\"/></a>"
      ]
    },
    {
      "cell_type": "markdown",
      "metadata": {
        "id": "ERQax80Nl2fY",
        "colab_type": "text"
      },
      "source": [
        "# Chapter2-1. TensorFlow 기초 - AI를 위한 NumPy"
      ]
    },
    {
      "cell_type": "markdown",
      "metadata": {
        "id": "Ba-LxKfLmGVu",
        "colab_type": "text"
      },
      "source": [
        "## [1] Import NumPy"
      ]
    },
    {
      "cell_type": "markdown",
      "metadata": {
        "id": "KpDie0bRwzEe",
        "colab_type": "text"
      },
      "source": [
        "> ### Import NumPy"
      ]
    },
    {
      "cell_type": "code",
      "metadata": {
        "id": "gXxAYyqxlNxp",
        "colab_type": "code",
        "outputId": "41f4893b-69e8-423a-d799-2320bb7d08dc",
        "colab": {
          "base_uri": "https://localhost:8080/",
          "height": 34
        }
      },
      "source": [
        "import numpy as np\n",
        "\n",
        "print(\"NumPy Version : {}\".format(np.__version__))"
      ],
      "execution_count": 1,
      "outputs": [
        {
          "output_type": "stream",
          "text": [
            "NumPy Version : 1.17.4\n"
          ],
          "name": "stdout"
        }
      ]
    },
    {
      "cell_type": "markdown",
      "metadata": {
        "id": "Nd1RFm8tc0Mr",
        "colab_type": "text"
      },
      "source": [
        "## [2] Python vs NumPy"
      ]
    },
    {
      "cell_type": "markdown",
      "metadata": {
        "id": "KvAO88Cpbw1-",
        "colab_type": "text"
      },
      "source": [
        "> ### Python"
      ]
    },
    {
      "cell_type": "code",
      "metadata": {
        "id": "39ZYE2K9bxCB",
        "colab_type": "code",
        "colab": {}
      },
      "source": [
        "L = range(1000)"
      ],
      "execution_count": 0,
      "outputs": []
    },
    {
      "cell_type": "markdown",
      "metadata": {
        "id": "BJRAKEskOHnN",
        "colab_type": "text"
      },
      "source": [
        "노트북에는 %기호 뒤에 붙여쓸 수 있는 특수 커맨드, 속칭 매직커맨드가 있다. timeit역시 시간을 측정하기 위해서 사용되는 커맨드이다."
      ]
    },
    {
      "cell_type": "code",
      "metadata": {
        "id": "IVmTm5xYcYPP",
        "colab_type": "code",
        "outputId": "843b9de8-7615-4833-d6c5-cdf21b012a57",
        "colab": {
          "base_uri": "https://localhost:8080/",
          "height": 34
        }
      },
      "source": [
        "%timeit [i**2 for i in L]"
      ],
      "execution_count": 4,
      "outputs": [
        {
          "output_type": "stream",
          "text": [
            "1000 loops, best of 3: 220 µs per loop\n"
          ],
          "name": "stdout"
        }
      ]
    },
    {
      "cell_type": "markdown",
      "metadata": {
        "id": "s7p1Wu6PcFQf",
        "colab_type": "text"
      },
      "source": [
        ">### NumPy"
      ]
    },
    {
      "cell_type": "markdown",
      "metadata": {
        "id": "G2KksWLpObXw",
        "colab_type": "text"
      },
      "source": [
        "arange. range의 결과물을 array로 만들어준다."
      ]
    },
    {
      "cell_type": "code",
      "metadata": {
        "id": "Y3M5RKz7cFdz",
        "colab_type": "code",
        "outputId": "02193a38-12b2-4829-df80-07d7ac333d4e",
        "colab": {
          "base_uri": "https://localhost:8080/",
          "height": 1000
        }
      },
      "source": [
        "a = np.arange(1000)\n",
        "b = np.arange(100, 120, 4)\n",
        "\n",
        "print(b.ndim) # 1차원 배열이 만들어질테니 depth는 1로 나올 것\n",
        "print(b)\n",
        "print(a)\n",
        "print(type(a))"
      ],
      "execution_count": 0,
      "outputs": [
        {
          "output_type": "stream",
          "text": [
            "1\n",
            "[100 104 108 112 116]\n",
            "[  0   1   2   3   4   5   6   7   8   9  10  11  12  13  14  15  16  17\n",
            "  18  19  20  21  22  23  24  25  26  27  28  29  30  31  32  33  34  35\n",
            "  36  37  38  39  40  41  42  43  44  45  46  47  48  49  50  51  52  53\n",
            "  54  55  56  57  58  59  60  61  62  63  64  65  66  67  68  69  70  71\n",
            "  72  73  74  75  76  77  78  79  80  81  82  83  84  85  86  87  88  89\n",
            "  90  91  92  93  94  95  96  97  98  99 100 101 102 103 104 105 106 107\n",
            " 108 109 110 111 112 113 114 115 116 117 118 119 120 121 122 123 124 125\n",
            " 126 127 128 129 130 131 132 133 134 135 136 137 138 139 140 141 142 143\n",
            " 144 145 146 147 148 149 150 151 152 153 154 155 156 157 158 159 160 161\n",
            " 162 163 164 165 166 167 168 169 170 171 172 173 174 175 176 177 178 179\n",
            " 180 181 182 183 184 185 186 187 188 189 190 191 192 193 194 195 196 197\n",
            " 198 199 200 201 202 203 204 205 206 207 208 209 210 211 212 213 214 215\n",
            " 216 217 218 219 220 221 222 223 224 225 226 227 228 229 230 231 232 233\n",
            " 234 235 236 237 238 239 240 241 242 243 244 245 246 247 248 249 250 251\n",
            " 252 253 254 255 256 257 258 259 260 261 262 263 264 265 266 267 268 269\n",
            " 270 271 272 273 274 275 276 277 278 279 280 281 282 283 284 285 286 287\n",
            " 288 289 290 291 292 293 294 295 296 297 298 299 300 301 302 303 304 305\n",
            " 306 307 308 309 310 311 312 313 314 315 316 317 318 319 320 321 322 323\n",
            " 324 325 326 327 328 329 330 331 332 333 334 335 336 337 338 339 340 341\n",
            " 342 343 344 345 346 347 348 349 350 351 352 353 354 355 356 357 358 359\n",
            " 360 361 362 363 364 365 366 367 368 369 370 371 372 373 374 375 376 377\n",
            " 378 379 380 381 382 383 384 385 386 387 388 389 390 391 392 393 394 395\n",
            " 396 397 398 399 400 401 402 403 404 405 406 407 408 409 410 411 412 413\n",
            " 414 415 416 417 418 419 420 421 422 423 424 425 426 427 428 429 430 431\n",
            " 432 433 434 435 436 437 438 439 440 441 442 443 444 445 446 447 448 449\n",
            " 450 451 452 453 454 455 456 457 458 459 460 461 462 463 464 465 466 467\n",
            " 468 469 470 471 472 473 474 475 476 477 478 479 480 481 482 483 484 485\n",
            " 486 487 488 489 490 491 492 493 494 495 496 497 498 499 500 501 502 503\n",
            " 504 505 506 507 508 509 510 511 512 513 514 515 516 517 518 519 520 521\n",
            " 522 523 524 525 526 527 528 529 530 531 532 533 534 535 536 537 538 539\n",
            " 540 541 542 543 544 545 546 547 548 549 550 551 552 553 554 555 556 557\n",
            " 558 559 560 561 562 563 564 565 566 567 568 569 570 571 572 573 574 575\n",
            " 576 577 578 579 580 581 582 583 584 585 586 587 588 589 590 591 592 593\n",
            " 594 595 596 597 598 599 600 601 602 603 604 605 606 607 608 609 610 611\n",
            " 612 613 614 615 616 617 618 619 620 621 622 623 624 625 626 627 628 629\n",
            " 630 631 632 633 634 635 636 637 638 639 640 641 642 643 644 645 646 647\n",
            " 648 649 650 651 652 653 654 655 656 657 658 659 660 661 662 663 664 665\n",
            " 666 667 668 669 670 671 672 673 674 675 676 677 678 679 680 681 682 683\n",
            " 684 685 686 687 688 689 690 691 692 693 694 695 696 697 698 699 700 701\n",
            " 702 703 704 705 706 707 708 709 710 711 712 713 714 715 716 717 718 719\n",
            " 720 721 722 723 724 725 726 727 728 729 730 731 732 733 734 735 736 737\n",
            " 738 739 740 741 742 743 744 745 746 747 748 749 750 751 752 753 754 755\n",
            " 756 757 758 759 760 761 762 763 764 765 766 767 768 769 770 771 772 773\n",
            " 774 775 776 777 778 779 780 781 782 783 784 785 786 787 788 789 790 791\n",
            " 792 793 794 795 796 797 798 799 800 801 802 803 804 805 806 807 808 809\n",
            " 810 811 812 813 814 815 816 817 818 819 820 821 822 823 824 825 826 827\n",
            " 828 829 830 831 832 833 834 835 836 837 838 839 840 841 842 843 844 845\n",
            " 846 847 848 849 850 851 852 853 854 855 856 857 858 859 860 861 862 863\n",
            " 864 865 866 867 868 869 870 871 872 873 874 875 876 877 878 879 880 881\n",
            " 882 883 884 885 886 887 888 889 890 891 892 893 894 895 896 897 898 899\n",
            " 900 901 902 903 904 905 906 907 908 909 910 911 912 913 914 915 916 917\n",
            " 918 919 920 921 922 923 924 925 926 927 928 929 930 931 932 933 934 935\n",
            " 936 937 938 939 940 941 942 943 944 945 946 947 948 949 950 951 952 953\n",
            " 954 955 956 957 958 959 960 961 962 963 964 965 966 967 968 969 970 971\n",
            " 972 973 974 975 976 977 978 979 980 981 982 983 984 985 986 987 988 989\n",
            " 990 991 992 993 994 995 996 997 998 999]\n",
            "<class 'numpy.ndarray'>\n"
          ],
          "name": "stdout"
        }
      ]
    },
    {
      "cell_type": "code",
      "metadata": {
        "id": "GI_aXRQrcZt1",
        "colab_type": "code",
        "outputId": "abaf19e3-52b7-44de-dcf9-05a936d4d64b",
        "colab": {
          "base_uri": "https://localhost:8080/",
          "height": 54
        }
      },
      "source": [
        "%timeit a**2"
      ],
      "execution_count": 0,
      "outputs": [
        {
          "output_type": "stream",
          "text": [
            "The slowest run took 5919.36 times longer than the fastest. This could mean that an intermediate result is being cached.\n",
            "1000000 loops, best of 3: 1.26 µs per loop\n"
          ],
          "name": "stdout"
        }
      ]
    },
    {
      "cell_type": "markdown",
      "metadata": {
        "id": "Nq0fOqdKO3cP",
        "colab_type": "text"
      },
      "source": [
        "위의 결과를 보면 연산처리속도 차이가 크게 남. 메모리에 물리적으로 액세스가 가능하니까. 캐시의 효과도 볼 수 있는 것."
      ]
    },
    {
      "cell_type": "markdown",
      "metadata": {
        "id": "ddrgrc2-lxGv",
        "colab_type": "text"
      },
      "source": [
        "## [3] np.ndarray 생성 : np.array()"
      ]
    },
    {
      "cell_type": "markdown",
      "metadata": {
        "id": "U8YaK_0HPHCj",
        "colab_type": "text"
      },
      "source": [
        "arange를 가지고 만든 결과물 -> numpy의 ndarray.\n",
        "\n",
        "numpy는 배열 기반으로 만듦. 그래서 이 ndarray 타입이 굉장히 중요하다.\n",
        "\n",
        "1차원 구조인 것을 보여주기 위해서 (5, )라는 식으로 표현.\n",
        "\n",
        "리스트의 경우에는 요소들간 타입이 달라도 됨. 그러나 numpy의 어레이는 어쨌건 array, 모든 요소의 타입이 다 같아야한다. \n",
        "\n",
        "dtype이라는 요소. 요소들이 어떤 속성인가를 알려준다. 나머지 것들은 크게 중요하지 않기때문에 현재는 생략한다."
      ]
    },
    {
      "cell_type": "markdown",
      "metadata": {
        "id": "ekP6DbIYxVbc",
        "colab_type": "text"
      },
      "source": [
        "> ### 1-D Array"
      ]
    },
    {
      "cell_type": "markdown",
      "metadata": {
        "id": "-_ODhbZ1P6Vm",
        "colab_type": "text"
      },
      "source": [
        "array-like한 것을 넣어주면 된다. list, list of tuple, tuple, tuple tuple, tuples of list and ndarrays"
      ]
    },
    {
      "cell_type": "code",
      "metadata": {
        "id": "9JRpSeLhlaxF",
        "colab_type": "code",
        "outputId": "905d7c78-0ade-426e-b5c7-8bd1f23f87fe",
        "colab": {
          "base_uri": "https://localhost:8080/",
          "height": 254
        }
      },
      "source": [
        "a = np.array([0, 1, 2, 3])\n",
        "print(a)\n",
        "print(a.ndim)\n",
        "print(a.shape)\n",
        "print(len(a))\n",
        "b = np.array([ \\\n",
        "              [ \\\n",
        "               [10, 20, 30], \\\n",
        "               [40, 50, 60] \\\n",
        "              ], \\\n",
        "              [\n",
        "                [20, 30, 40], \\\n",
        "               [10, 15, 30]\\\n",
        "              ],\n",
        "              [ \\\n",
        "               [10, 20, 30], \\\n",
        "               [40, 50, 60] \\\n",
        "              ], \\\n",
        "              [\n",
        "                [22, 33, 45], \\\n",
        "               [12, 16, 32]\\\n",
        "              ]\n",
        "              \n",
        "\n",
        "])\n",
        "print(b.ndim)\n",
        "print(b.transpose(2, 0, 1)) #  즉 두개뿐인 2차원 배열의 내용들이 밖을 묶는 요소들이 된다. 0번째 1번째 그리고 그 안에 두개의 요소가 있고\n"
      ],
      "execution_count": 0,
      "outputs": [
        {
          "output_type": "stream",
          "text": [
            "[0 1 2 3]\n",
            "1\n",
            "(4,)\n",
            "4\n",
            "3\n",
            "[[[10 40]\n",
            "  [20 10]]\n",
            "\n",
            " [[20 50]\n",
            "  [30 15]]\n",
            "\n",
            " [[30 60]\n",
            "  [40 30]]]\n"
          ],
          "name": "stdout"
        }
      ]
    },
    {
      "cell_type": "markdown",
      "metadata": {
        "id": "_Cm0ZMASyCDd",
        "colab_type": "text"
      },
      "source": [
        "> ### 2-D Array"
      ]
    },
    {
      "cell_type": "markdown",
      "metadata": {
        "id": "LkzbwzRDRFsf",
        "colab_type": "text"
      },
      "source": [
        "배열을 만들기 어려운 경우에 어떻게 될까?\n",
        "```python\n",
        "b = np.array([0, 1, 2, 3], [3. 4, 5])\n",
        "```\n",
        "이때 b는 어떤 식으로 찍힐까?"
      ]
    },
    {
      "cell_type": "code",
      "metadata": {
        "id": "wMplnM9-mTZM",
        "colab_type": "code",
        "outputId": "431c7b77-e4da-40e4-f099-80f204ab2c2b",
        "colab": {
          "base_uri": "https://localhost:8080/",
          "height": 90
        }
      },
      "source": [
        "b = np.array([[0, 1, 2], [3, 4, 5]])\n",
        "print(b)\n",
        "print(b.ndim)\n",
        "print(b.shape)\n",
        "print(len(b))"
      ],
      "execution_count": 0,
      "outputs": [
        {
          "output_type": "stream",
          "text": [
            "[list([0, 1, 2, 3]) list([3, 4, 5])]\n",
            "1\n",
            "(2,)\n",
            "2\n"
          ],
          "name": "stdout"
        }
      ]
    },
    {
      "cell_type": "markdown",
      "metadata": {
        "id": "EPrhts6byO8z",
        "colab_type": "text"
      },
      "source": [
        "> ### 3-D Array"
      ]
    },
    {
      "cell_type": "code",
      "metadata": {
        "id": "QqHOh_eIqOPz",
        "colab_type": "code",
        "outputId": "3d79e4ea-1828-469a-d798-5dfde1dd34d2",
        "colab": {
          "base_uri": "https://localhost:8080/",
          "height": 163
        }
      },
      "source": [
        "c = np.array([[[1], [2]], [[3], [4]]])\n",
        "print(c)\n",
        "print(c.ndim)\n",
        "print(c.shape)\n",
        "print(len(c))"
      ],
      "execution_count": 0,
      "outputs": [
        {
          "output_type": "stream",
          "text": [
            "[[[1]\n",
            "  [2]]\n",
            "\n",
            " [[3]\n",
            "  [4]]]\n",
            "3\n",
            "(2, 2, 1)\n",
            "2\n"
          ],
          "name": "stdout"
        }
      ]
    },
    {
      "cell_type": "markdown",
      "metadata": {
        "id": "AJj-Dv86yfcb",
        "colab_type": "text"
      },
      "source": [
        "## [4] np.ndarray 생성하는 다른 함수들"
      ]
    },
    {
      "cell_type": "markdown",
      "metadata": {
        "id": "cqW5TnKEyiPa",
        "colab_type": "text"
      },
      "source": [
        "> ### np.arange()"
      ]
    },
    {
      "cell_type": "markdown",
      "metadata": {
        "id": "f44FPXp2XFsv",
        "colab_type": "text"
      },
      "source": [
        "파이썬의 range와 동일하다고 생각하면 됨."
      ]
    },
    {
      "cell_type": "code",
      "metadata": {
        "id": "qTWO_FyhyoPK",
        "colab_type": "code",
        "outputId": "def03523-5034-49d5-82ec-49342ccb98a0",
        "colab": {
          "base_uri": "https://localhost:8080/",
          "height": 54
        }
      },
      "source": [
        "a = np.arange(10)\n",
        "print(a)\n",
        "\n",
        "b = np.arange(1, 9, 2)\n",
        "print(b)"
      ],
      "execution_count": 0,
      "outputs": [
        {
          "output_type": "stream",
          "text": [
            "[0 1 2 3 4 5 6 7 8 9]\n",
            "[1 3 5 7]\n"
          ],
          "name": "stdout"
        }
      ]
    },
    {
      "cell_type": "markdown",
      "metadata": {
        "id": "0IA3btl-yyuq",
        "colab_type": "text"
      },
      "source": [
        ">### np.linspace()"
      ]
    },
    {
      "cell_type": "markdown",
      "metadata": {
        "id": "Oo5hFPfrXdiE",
        "colab_type": "text"
      },
      "source": [
        "처음값과 끝값을 정해주면 linear한 어떤 값의 array를 만들어준다.\n",
        "\n",
        "0, 1사이에 6개의 스텝이 있는 배열을 만들어준다. "
      ]
    },
    {
      "cell_type": "code",
      "metadata": {
        "id": "2k0JqlBhyx9G",
        "colab_type": "code",
        "outputId": "39b903fc-bf15-464f-c892-ee84767568dd",
        "colab": {
          "base_uri": "https://localhost:8080/",
          "height": 72
        }
      },
      "source": [
        "c = np.linspace(0, 1, 6)\n",
        "print(c)\n",
        "\n",
        "d = np.linspace(0, 1, 5, endpoint=False)\n",
        "print(d)\n",
        "\n",
        "e = np.linspace(0, 100, 11)\n",
        "print(e)"
      ],
      "execution_count": 0,
      "outputs": [
        {
          "output_type": "stream",
          "text": [
            "[0.  0.2 0.4 0.6 0.8 1. ]\n",
            "[0.  0.2 0.4 0.6 0.8]\n",
            "[  0.  10.  20.  30.  40.  50.  60.  70.  80.  90. 100.]\n"
          ],
          "name": "stdout"
        }
      ]
    },
    {
      "cell_type": "markdown",
      "metadata": {
        "id": "0TuhsfkyzNJS",
        "colab_type": "text"
      },
      "source": [
        ">### np.ones(), np.zeros(), np.eye()"
      ]
    },
    {
      "cell_type": "markdown",
      "metadata": {
        "id": "yjAXc7qOSAih",
        "colab_type": "text"
      },
      "source": [
        "eyes는 항등 행렬을 만들어준다. 정사각형 행렬에서만 만들어지기 때문에 숫자 * 숫자짜리의 행렬을 만들어 준다."
      ]
    },
    {
      "cell_type": "code",
      "metadata": {
        "id": "qSgvuZsty2QE",
        "colab_type": "code",
        "colab": {}
      },
      "source": [
        "a = np.ones((3, 3))\n",
        "print(a)\n",
        "\n",
        "b = np.zeros((2, 2))\n",
        "print(b)\n",
        "\n",
        "c = np.eye(3)\n",
        "print(c)"
      ],
      "execution_count": 0,
      "outputs": []
    },
    {
      "cell_type": "markdown",
      "metadata": {
        "id": "zOClE1Oc08BP",
        "colab_type": "text"
      },
      "source": [
        ">### np.ones_like(), np.zeros_like(), np.empty_like()"
      ]
    },
    {
      "cell_type": "markdown",
      "metadata": {
        "id": "_qPOLEjTSTPq",
        "colab_type": "text"
      },
      "source": [
        "동일한 shape인데 0만있는 shape, 1만 있는 shape, "
      ]
    },
    {
      "cell_type": "code",
      "metadata": {
        "id": "W8NarQ3c1DUj",
        "colab_type": "code",
        "outputId": "b9fdb9a8-a449-483d-aa99-1d70bd2a34bb",
        "colab": {
          "base_uri": "https://localhost:8080/",
          "height": 72
        }
      },
      "source": [
        "a = [1,2,3,4]\n",
        "a_like = np.ones_like(a)\n",
        "print(a_like)\n",
        "\n",
        "b = [[1,2,3],[4,5,6]]\n",
        "b_like = np.zeros_like(b)\n",
        "print(b_like)\n",
        "\n",
        "c = [[1,2, 3],[3,4, 5]]\n",
        "c_like = np.empty_like(c)\n",
        "print(c_like)"
      ],
      "execution_count": 0,
      "outputs": [
        {
          "output_type": "stream",
          "text": [
            "[1 1 1 1]\n",
            "[[1 2 3]\n",
            " [3 4 5]]\n"
          ],
          "name": "stdout"
        }
      ]
    },
    {
      "cell_type": "markdown",
      "metadata": {
        "id": "xAj74vn6DenV",
        "colab_type": "text"
      },
      "source": [
        "## [5] Basic Data Type"
      ]
    },
    {
      "cell_type": "markdown",
      "metadata": {
        "id": "qyLnYX1PSwio",
        "colab_type": "text"
      },
      "source": [
        "dtype\n",
        "\n",
        "보통 float64가 가장 기본적인 형태가 된다.\n",
        "\n",
        "사실 문자열 타입과 같은 것들은 이번 수업때는 사용하지 않을 것으로 보임.\n",
        "\n",
        "실제로 사용할때는 np.자료형, (np.int8, np.int16)으로 사용한다."
      ]
    },
    {
      "cell_type": "markdown",
      "metadata": {
        "id": "xoag_KgyDok1",
        "colab_type": "text"
      },
      "source": [
        ">### np.ndarray.dtype"
      ]
    },
    {
      "cell_type": "code",
      "metadata": {
        "id": "5uwTPRHhDtkF",
        "colab_type": "code",
        "outputId": "8bfec123-f55b-4881-fb4c-63dca555c2b1",
        "colab": {
          "base_uri": "https://localhost:8080/",
          "height": 90
        }
      },
      "source": [
        "a = np.array([1, 2, 3])\n",
        "print(a.dtype)\n",
        "\n",
        "b = np.array([1., 2., 2135224534645756.142222222222222222222222222222233333333333142142124124115124321531242153123151])\n",
        "print(b.dtype)\n",
        "\n",
        "c = np.array([1+2j, 3+4j, 5+6*1j])\n",
        "print(c.dtype)\n",
        "\n",
        "d = np.array([True, False, False, True])\n",
        "print(d.dtype)"
      ],
      "execution_count": 0,
      "outputs": [
        {
          "output_type": "stream",
          "text": [
            "int64\n",
            "float64\n",
            "complex128\n",
            "bool\n"
          ],
          "name": "stdout"
        }
      ]
    },
    {
      "cell_type": "markdown",
      "metadata": {
        "id": "QlPfG5ymD8hm",
        "colab_type": "text"
      },
      "source": [
        ">### array 생성 시 dtype 지정"
      ]
    },
    {
      "cell_type": "markdown",
      "metadata": {
        "id": "yj11dmyxWdyb",
        "colab_type": "text"
      },
      "source": [
        "우리가 원하는 타입을 지정해서 만드는 것이 가능하다."
      ]
    },
    {
      "cell_type": "code",
      "metadata": {
        "id": "9yjD0TsJD89w",
        "colab_type": "code",
        "outputId": "cecea4c4-b954-407b-fac5-712530496f30",
        "colab": {
          "base_uri": "https://localhost:8080/",
          "height": 54
        }
      },
      "source": [
        "e = np.array([1, 2, 3], dtype=float)\n",
        "print(e.dtype)\n",
        "\n",
        "f = np.array([1., 2., 3., 4], dtype=int)\n",
        "print(f.dtype)"
      ],
      "execution_count": 0,
      "outputs": [
        {
          "output_type": "stream",
          "text": [
            "float64\n",
            "int64\n"
          ],
          "name": "stdout"
        }
      ]
    },
    {
      "cell_type": "markdown",
      "metadata": {
        "id": "wgcco--E0sfE",
        "colab_type": "text"
      },
      "source": [
        "## [6] Indexing & Slicing"
      ]
    },
    {
      "cell_type": "markdown",
      "metadata": {
        "id": "UmGbllIfYb-J",
        "colab_type": "text"
      },
      "source": [
        "Indexing과 Slicing은 원본의 VIEW\n",
        "\n",
        "예를 들어서 ```[1,2,3,4,5]```\n",
        "라고 해보자.\n",
        "\n",
        "즉 뭔가가 새로 만들어지는게 아니라 같은 녀석을 바라본다는 것.\n",
        "이런 것을 VIEW라고 한다. \n",
        "\n",
        "인덱싱도 그러하고, 슬라이싱도 슬라이싱한 결과에 새로운 오브젝트가 만들어지는게 아니라 VIEW의 관점으로 만들어진다.\n",
        "\n"
      ]
    },
    {
      "cell_type": "markdown",
      "metadata": {
        "id": "YfQvGBNO0w2E",
        "colab_type": "text"
      },
      "source": [
        "> ### 기본 Indexing 방법"
      ]
    },
    {
      "cell_type": "code",
      "metadata": {
        "id": "GoCuqRIR0xok",
        "colab_type": "code",
        "outputId": "88d7471a-b4da-47fb-fd78-cc957bc32026",
        "colab": {
          "base_uri": "https://localhost:8080/",
          "height": 90
        }
      },
      "source": [
        "a = np.arange(10)\n",
        "print(a)\n",
        "print(a[0])\n",
        "print(a[2])\n",
        "print(a[-1])"
      ],
      "execution_count": 0,
      "outputs": [
        {
          "output_type": "stream",
          "text": [
            "[0 1 2 3 4 5 6 7 8 9]\n",
            "0\n",
            "2\n",
            "9\n"
          ],
          "name": "stdout"
        }
      ]
    },
    {
      "cell_type": "markdown",
      "metadata": {
        "colab_type": "text",
        "id": "TGZSw7VgFOaA"
      },
      "source": [
        ">### Multidimensional array의 Indexing"
      ]
    },
    {
      "cell_type": "markdown",
      "metadata": {
        "id": "IpdD37dZZYme",
        "colab_type": "text"
      },
      "source": [
        "```a[2, 1] = 10```\n",
        "\n",
        "이걸바꾸면 어떻게 바뀔까?\n",
        "\n",
        "```\n",
        "1 0 0 \n",
        "1 1 0\n",
        "0 10 1 의 형태로 출력이 될 것,\n",
        "```"
      ]
    },
    {
      "cell_type": "markdown",
      "metadata": {
        "id": "L6-0eeXfxMDs",
        "colab_type": "text"
      },
      "source": [
        "#복습\n",
        "\n",
        "여기서 확인할 점은 슬라이싱한 내용들은 기본적으로 VIEW라는 점."
      ]
    },
    {
      "cell_type": "code",
      "metadata": {
        "id": "rM2obqJc_yqD",
        "colab_type": "code",
        "outputId": "34e31169-fcfb-48e4-a7a9-c6a70dc8abc4",
        "colab": {
          "base_uri": "https://localhost:8080/",
          "height": 255
        }
      },
      "source": [
        "a = np.eye(3)\n",
        "\n",
        "print(a,'\\n')\n",
        "print(a[1, 1],'\\n')\n",
        "\n",
        "a[2, 1] = 10 # VIEW이기 때문에 값이 바뀌는 것을 확인할 수 있다\n",
        "print(a[2, 1],'\\n')   # third line, second column\n",
        "\n",
        "print(a,'\\n')\n",
        "print(a[1],'\\n')\n",
        "\n"
      ],
      "execution_count": 5,
      "outputs": [
        {
          "output_type": "stream",
          "text": [
            "[[1. 0. 0.]\n",
            " [0. 1. 0.]\n",
            " [0. 0. 1.]] \n",
            "\n",
            "1.0 \n",
            "\n",
            "10.0 \n",
            "\n",
            "[[ 1.  0.  0.]\n",
            " [ 0.  1.  0.]\n",
            " [ 0. 10.  1.]] \n",
            "\n",
            "[0. 1. 0.] \n",
            "\n"
          ],
          "name": "stdout"
        }
      ]
    },
    {
      "cell_type": "markdown",
      "metadata": {
        "id": "nru8Q37MF4i5",
        "colab_type": "text"
      },
      "source": [
        ">### Slicing"
      ]
    },
    {
      "cell_type": "code",
      "metadata": {
        "id": "tG05uUG8F5Ig",
        "colab_type": "code",
        "outputId": "839d48a8-d1de-48cc-d907-697f112ac39e",
        "colab": {
          "base_uri": "https://localhost:8080/",
          "height": 290
        }
      },
      "source": [
        "a = np.arange(10)\n",
        "\n",
        "print(a,'\\n')\n",
        "\n",
        "print(a[2:9:3],'\\n') # [start:end:step]\n",
        "\n",
        "print('====================')\n",
        "print(a[-1:3:-2],'\\n')\n",
        "print(a[:4],'\\n')\n",
        "\n",
        "print(a[1:3],'\\n')\n",
        "\n",
        "print(a[::2],'\\n')\n",
        "\n",
        "print(a[3:],'\\n')"
      ],
      "execution_count": 0,
      "outputs": [
        {
          "output_type": "stream",
          "text": [
            "[0 1 2 3 4 5 6 7 8 9] \n",
            "\n",
            "[2 5 8] \n",
            "\n",
            "====================\n",
            "[9 7 5] \n",
            "\n",
            "[0 1 2 3] \n",
            "\n",
            "[1 2] \n",
            "\n",
            "[0 2 4 6 8] \n",
            "\n",
            "[3 4 5 6 7 8 9] \n",
            "\n"
          ],
          "name": "stdout"
        }
      ]
    },
    {
      "cell_type": "markdown",
      "metadata": {
        "id": "0rIczwWirj_Q",
        "colab_type": "text"
      },
      "source": [
        "```\n",
        "b[::-1]\n",
        "```\n",
        "이 뒤집혀서 대입된다.\n",
        "사이즈가 다르면 Broadcating을 할 수 없다는 얘기가 나오며 안됨 "
      ]
    },
    {
      "cell_type": "code",
      "metadata": {
        "id": "1REgRzY7GdQl",
        "colab_type": "code",
        "outputId": "267ae247-3e77-4158-a819-4d7de5408806",
        "colab": {
          "base_uri": "https://localhost:8080/",
          "height": 163
        }
      },
      "source": [
        "a = np.arange(10)\n",
        "print(a,'\\n')\n",
        "a[5:] = 10 # broadcast가 가능해서 되는걸까?\n",
        "print(a,'\\n')\n",
        "\n",
        "b = np.arange(5)\n",
        "print(b,'\\n')\n",
        "a[5:] = b[::-1]\n",
        "print(a,'\\n')"
      ],
      "execution_count": 0,
      "outputs": [
        {
          "output_type": "stream",
          "text": [
            "[0 1 2 3 4 5 6 7 8 9] \n",
            "\n",
            "[ 0  1  2  3  4 10 10 10 10 10] \n",
            "\n",
            "[0 1 2 3 4] \n",
            "\n",
            "[0 1 2 3 4 4 3 2 1 0] \n",
            "\n"
          ],
          "name": "stdout"
        }
      ]
    },
    {
      "cell_type": "markdown",
      "metadata": {
        "id": "Hn-_KAAB_lEX",
        "colab_type": "text"
      },
      "source": [
        "## [7] Copies and views"
      ]
    },
    {
      "cell_type": "markdown",
      "metadata": {
        "id": "f8eopdQBBF9M",
        "colab_type": "text"
      },
      "source": [
        ">### 'b'의 정체?"
      ]
    },
    {
      "cell_type": "code",
      "metadata": {
        "id": "R7iiG4qA_kTj",
        "colab_type": "code",
        "outputId": "8f663d0e-1048-4a25-a5d5-356411a9b983",
        "colab": {
          "base_uri": "https://localhost:8080/",
          "height": 145
        }
      },
      "source": [
        "a = np.arange(10)\n",
        "print(a)\n",
        "b = a[::2]\n",
        "print(b)\n",
        "\n",
        "print(np.may_share_memory(a, b))\n",
        "\n",
        "b[0] = 12\n",
        "print(b.base) # 해당 어레이 객체가 뷰일때 그 원본이 누구인지를 알려준다.\n",
        "print(b)\n",
        "print(a)\n",
        "#stride. 어떤 데이터를 몇개를 건너뛰면서 볼 것인가.\n",
        "print(b.strides) # 바이트 단위로 나온다. int64만들어졌을거니까, 8바이트가 두번 건너뛰었을 것."
      ],
      "execution_count": 0,
      "outputs": [
        {
          "output_type": "stream",
          "text": [
            "[0 1 2 3 4 5 6 7 8 9]\n",
            "[0 2 4 6 8]\n",
            "True\n",
            "[12  1  2  3  4  5  6  7  8  9]\n",
            "[12  2  4  6  8]\n",
            "[12  1  2  3  4  5  6  7  8  9]\n",
            "(16,)\n"
          ],
          "name": "stdout"
        }
      ]
    },
    {
      "cell_type": "markdown",
      "metadata": {
        "id": "m8PG7iL4BGti",
        "colab_type": "text"
      },
      "source": [
        ">### 강제 Copy 만들기"
      ]
    },
    {
      "cell_type": "markdown",
      "metadata": {
        "id": "MnAqJLzlxXRM",
        "colab_type": "text"
      },
      "source": [
        "#복습\n",
        "\n",
        "그래서 카피를 만들고 싶다면 copy함수를 이용해야 한다. "
      ]
    },
    {
      "cell_type": "code",
      "metadata": {
        "id": "cPj1IGL_Awr3",
        "colab_type": "code",
        "outputId": "5c9fd1e3-bddc-40ae-aaf3-62b602b45ac3",
        "colab": {
          "base_uri": "https://localhost:8080/",
          "height": 90
        }
      },
      "source": [
        "a = np.arange(10)\n",
        "c = a[::2].copy() # 말 그대로 값을 복사해서 새로운 값을 만드는 것.\n",
        "print(a)\n",
        "print(c)\n",
        "\n",
        "c[0] = 12\n",
        "print(a)\n",
        "\n",
        "print(np.may_share_memory(a, c))"
      ],
      "execution_count": 0,
      "outputs": [
        {
          "output_type": "stream",
          "text": [
            "[0 1 2 3 4 5 6 7 8 9]\n",
            "[0 2 4 6 8]\n",
            "[0 1 2 3 4 5 6 7 8 9]\n",
            "False\n"
          ],
          "name": "stdout"
        }
      ]
    },
    {
      "cell_type": "markdown",
      "metadata": {
        "id": "iIfcA1I7O3e2",
        "colab_type": "text"
      },
      "source": [
        "## [8] Elementwise operation"
      ]
    },
    {
      "cell_type": "markdown",
      "metadata": {
        "id": "i0WPWYWZPqw9",
        "colab_type": "text"
      },
      "source": [
        "> ### Scalar value와 Array 사이의  연산\n",
        "\n",
        "Scala value. 그냥 일단은 요소가 아니라 값 하나, 크기 값 정도로만 생각하길 바람"
      ]
    },
    {
      "cell_type": "markdown",
      "metadata": {
        "id": "G2NgPsVQurq7",
        "colab_type": "text"
      },
      "source": [
        "대부분의 연산 -> Elementwise로 하게 된다.\n",
        "\n",
        "어떤 배열들의내용을 연산할때 배열의 요소들끼리 연산을 하는 것이다. "
      ]
    },
    {
      "cell_type": "markdown",
      "metadata": {
        "id": "lKLJrNwuxijF",
        "colab_type": "text"
      },
      "source": [
        "#복습\n",
        "\n",
        "elementwise로 계산한다는 것은 broadcasting이 일어나고, 그리고 나서 계산한다는 것\n",
        "\n",
        "아래의 코드에서는 1이 차원 확장이 먼저 되고, 그 다음 같은 열이 되도록 스트레치가 일어난다"
      ]
    },
    {
      "cell_type": "code",
      "metadata": {
        "id": "Q-w2CZR7PtU8",
        "colab_type": "code",
        "outputId": "38635a66-b432-4a2e-9515-8123e8f6820d",
        "colab": {
          "base_uri": "https://localhost:8080/",
          "height": 51
        }
      },
      "source": [
        "a = np.array([1, 2, 3, 4])\n",
        "print(a + 1)\n",
        "print(2 ** a)"
      ],
      "execution_count": 6,
      "outputs": [
        {
          "output_type": "stream",
          "text": [
            "[2 3 4 5]\n",
            "[ 2  4  8 16]\n"
          ],
          "name": "stdout"
        }
      ]
    },
    {
      "cell_type": "markdown",
      "metadata": {
        "id": "4Qn_iE4lQJu7",
        "colab_type": "text"
      },
      "source": [
        ">### Array와 Array 사이의 연산"
      ]
    },
    {
      "cell_type": "code",
      "metadata": {
        "id": "OlX_iXECQKRl",
        "colab_type": "code",
        "colab": {}
      },
      "source": [
        "b = np.ones(4) + 1\n",
        "\n",
        "print(a - b)\n",
        "print(a * b)\n",
        "\n",
        "j = np.arange(5)\n",
        "print(2**(j + 1) - j)\n"
      ],
      "execution_count": 0,
      "outputs": []
    },
    {
      "cell_type": "markdown",
      "metadata": {
        "id": "006lrsA-Q6n5",
        "colab_type": "text"
      },
      "source": [
        ">### c * c => Matrix Multiplication?"
      ]
    },
    {
      "cell_type": "markdown",
      "metadata": {
        "id": "f4i61zatwiwl",
        "colab_type": "text"
      },
      "source": [
        "그냥 elementwise 연산이 이뤄진 것을 확인할 수 있다."
      ]
    },
    {
      "cell_type": "markdown",
      "metadata": {
        "id": "j8yMrSNKx0zU",
        "colab_type": "text"
      },
      "source": [
        "#복습\n",
        "\n",
        "기본적으로 발생하는 연산은 elementwise 연산이다. 그래서 행렬간 연산이 필요할 때는 matmul따위의 연산을 해주어야 한다."
      ]
    },
    {
      "cell_type": "code",
      "metadata": {
        "id": "cROy7HyiQ6Z2",
        "colab_type": "code",
        "outputId": "a3d428f5-69f3-4998-9f13-4d07c2ae9af8",
        "colab": {
          "base_uri": "https://localhost:8080/",
          "height": 119
        }
      },
      "source": [
        "c = np.ones((3, 3))\n",
        "d = np.matmul(c, c)\n",
        "print(c * c * 3)\n",
        "print(d)"
      ],
      "execution_count": 8,
      "outputs": [
        {
          "output_type": "stream",
          "text": [
            "[[3. 3. 3.]\n",
            " [3. 3. 3.]\n",
            " [3. 3. 3.]]\n",
            "[[3. 3. 3.]\n",
            " [3. 3. 3.]\n",
            " [3. 3. 3.]]\n"
          ],
          "name": "stdout"
        }
      ]
    },
    {
      "cell_type": "markdown",
      "metadata": {
        "id": "3BLpgw-7RRLu",
        "colab_type": "text"
      },
      "source": [
        ">### Matrix Multiplication : np.dot"
      ]
    },
    {
      "cell_type": "markdown",
      "metadata": {
        "id": "SUJF5d88wrWW",
        "colab_type": "text"
      },
      "source": [
        "아래 메소드를 사용해야 행렬의 곱을 수행한다.\n",
        "\n",
        "실제로는 dot product 연산을 할 때 사용하는 연산이다."
      ]
    },
    {
      "cell_type": "code",
      "metadata": {
        "id": "Og5vH8cERRlI",
        "colab_type": "code",
        "outputId": "900b974f-0d93-4e86-8192-5b3d300cc651",
        "colab": {
          "base_uri": "https://localhost:8080/",
          "height": 72
        }
      },
      "source": [
        "mat_mul = np.dot(c,c)\n",
        "print(mat_mul)"
      ],
      "execution_count": 0,
      "outputs": [
        {
          "output_type": "stream",
          "text": [
            "[[3. 3. 3.]\n",
            " [3. 3. 3.]\n",
            " [3. 3. 3.]]\n"
          ],
          "name": "stdout"
        }
      ]
    },
    {
      "cell_type": "markdown",
      "metadata": {
        "id": "kTGr5HMLaTcX",
        "colab_type": "text"
      },
      "source": [
        ">### Element-wise 비교"
      ]
    },
    {
      "cell_type": "markdown",
      "metadata": {
        "id": "VtjMdIsfxPE_",
        "colab_type": "text"
      },
      "source": [
        "하나하나씩 적용돼서 나옴(element wise)"
      ]
    },
    {
      "cell_type": "markdown",
      "metadata": {
        "id": "v0wA5FdC04E7",
        "colab_type": "text"
      },
      "source": [
        "# 복습\n",
        "\n",
        "이 부분이 개념이 잘 안잡혀 있는데 ndarray의 경우에는 변수를 넣어주면 개별 계산이 가능하다는 사실을 잊지 말 것!\n",
        "\n",
        "np.where의 경우에도 이와 유사한 방식으로 사용됐던 것 같음ㅇㅇ"
      ]
    },
    {
      "cell_type": "code",
      "metadata": {
        "id": "7wKbGxVjaTS_",
        "colab_type": "code",
        "outputId": "6bf859eb-eaae-47e6-a03b-097c3087160b",
        "colab": {
          "base_uri": "https://localhost:8080/",
          "height": 51
        }
      },
      "source": [
        "a = np.array([1, 2, 3, 4])\n",
        "b = np.array([4, 2, 2, 4])\n",
        "c = np.where(a == b)\n",
        "print(a == b)\n",
        "print(a > b)"
      ],
      "execution_count": 13,
      "outputs": [
        {
          "output_type": "stream",
          "text": [
            "[False  True False  True]\n",
            "[False False  True False]\n"
          ],
          "name": "stdout"
        }
      ]
    },
    {
      "cell_type": "markdown",
      "metadata": {
        "id": "Sih001C7al-h",
        "colab_type": "text"
      },
      "source": [
        ">### Element-wise 논리연산"
      ]
    },
    {
      "cell_type": "code",
      "metadata": {
        "id": "aMHh3DujamJ_",
        "colab_type": "code",
        "outputId": "a613b760-233a-4673-805d-d654ee788a36",
        "colab": {
          "base_uri": "https://localhost:8080/",
          "height": 90
        }
      },
      "source": [
        "a = np.array([1, 1, 0, 0], dtype=bool)\n",
        "b = np.array([1, 0, 1, 0], dtype=bool)\n",
        "\n",
        "print(np.logical_or(a, b))\n",
        "print(a|b)\n",
        "\n",
        "print(np.logical_and(a, b))\n",
        "print(a&b)"
      ],
      "execution_count": 0,
      "outputs": [
        {
          "output_type": "stream",
          "text": [
            "[ True  True  True False]\n",
            "[ True  True  True False]\n",
            "[ True False False False]\n",
            "[ True False False False]\n"
          ],
          "name": "stdout"
        }
      ]
    },
    {
      "cell_type": "markdown",
      "metadata": {
        "id": "EcFVJ_DKbDGh",
        "colab_type": "text"
      },
      "source": [
        ">### Element-wise 연산에서 operand들의 shape mismatche"
      ]
    },
    {
      "cell_type": "markdown",
      "metadata": {
        "id": "mRPbcU3w2Q-g",
        "colab_type": "text"
      },
      "source": [
        "#복습\n",
        "\n",
        "왜 stretch가 되지 않을까?\n",
        "\n",
        ">The new elements in b, as shown in Figure 1, are simply copies of the original scalar. The stretching analogy is only conceptual. numpy is smart enough to use the original scalar value without actually making copies so that broadcasting operations are as memory and computationally efficient as possible.\n",
        "\n",
        "상단의 내용에서 확인할 수 있는 것처럼 numpy는 값을 \"복사\"해서 stretch해준다.\n",
        "\n",
        "> In order to broadcast, the size of the trailing axes for both arrays in an operation must either be the same size or one of them must be one.\n",
        "\n",
        "하지만 numpy manual이 설명하고 있는것처럼 만약 shape이 다르거나, 또는 값이 하나가 아닌 상황이라면 당연히 될리가 없다.\n",
        "아래의 예제는 shape (4, ) 꼴인 a와 [1, 2]는 shape도 다를 뿐더러 [1, 2]는 값이 하나도 아니기 때문에 broadcasting이 일어나지 않는다.\n",
        "\n"
      ]
    },
    {
      "cell_type": "code",
      "metadata": {
        "id": "eIekdHAebC8R",
        "colab_type": "code",
        "outputId": "c5dfd8e1-41dc-40ee-8339-4d2ba80a61ef",
        "colab": {
          "base_uri": "https://localhost:8080/",
          "height": 191
        }
      },
      "source": [
        "a = np.arange(4)\n",
        "a + np.array([1, 2])  # Error가 뜨는 이유는 stretch가 되지 않기 때문. "
      ],
      "execution_count": 0,
      "outputs": [
        {
          "output_type": "error",
          "ename": "ValueError",
          "evalue": "ignored",
          "traceback": [
            "\u001b[0;31m---------------------------------------------------------------------------\u001b[0m",
            "\u001b[0;31mValueError\u001b[0m                                Traceback (most recent call last)",
            "\u001b[0;32m<ipython-input-41-659bcd508c9e>\u001b[0m in \u001b[0;36m<module>\u001b[0;34m()\u001b[0m\n\u001b[1;32m      1\u001b[0m \u001b[0ma\u001b[0m \u001b[0;34m=\u001b[0m \u001b[0mnp\u001b[0m\u001b[0;34m.\u001b[0m\u001b[0marange\u001b[0m\u001b[0;34m(\u001b[0m\u001b[0;36m4\u001b[0m\u001b[0;34m)\u001b[0m\u001b[0;34m\u001b[0m\u001b[0;34m\u001b[0m\u001b[0m\n\u001b[0;32m----> 2\u001b[0;31m \u001b[0ma\u001b[0m \u001b[0;34m+\u001b[0m \u001b[0mnp\u001b[0m\u001b[0;34m.\u001b[0m\u001b[0marray\u001b[0m\u001b[0;34m(\u001b[0m\u001b[0;34m[\u001b[0m\u001b[0;36m1\u001b[0m\u001b[0;34m,\u001b[0m \u001b[0;36m2\u001b[0m\u001b[0;34m]\u001b[0m\u001b[0;34m)\u001b[0m\u001b[0;34m\u001b[0m\u001b[0;34m\u001b[0m\u001b[0m\n\u001b[0m",
            "\u001b[0;31mValueError\u001b[0m: operands could not be broadcast together with shapes (4,) (2,) "
          ]
        }
      ]
    },
    {
      "cell_type": "markdown",
      "metadata": {
        "id": "J9abKbe-O-j9",
        "colab_type": "text"
      },
      "source": [
        "## [9] Dimension reduction 연산"
      ]
    },
    {
      "cell_type": "markdown",
      "metadata": {
        "id": "1fctlJGHcc3Y",
        "colab_type": "text"
      },
      "source": [
        ">### np.sum(), np.ndarray.sum()"
      ]
    },
    {
      "cell_type": "code",
      "metadata": {
        "id": "63O1RdWJcdfq",
        "colab_type": "code",
        "outputId": "2a392db0-e8dc-4f61-dce4-02bb744d2338",
        "colab": {
          "base_uri": "https://localhost:8080/",
          "height": 54
        }
      },
      "source": [
        "x = np.array([1, 2, 3, 4])\n",
        "\n",
        "print(np.sum(x))\n",
        "\n",
        "print(x.sum())"
      ],
      "execution_count": 0,
      "outputs": [
        {
          "output_type": "stream",
          "text": [
            "10\n",
            "10\n"
          ],
          "name": "stdout"
        }
      ]
    },
    {
      "cell_type": "markdown",
      "metadata": {
        "id": "lSsiliW_ctAG",
        "colab_type": "text"
      },
      "source": [
        ">### 특정 축을 기준으로 합계 구하기"
      ]
    },
    {
      "cell_type": "markdown",
      "metadata": {
        "id": "dNACYZTP-Dbe",
        "colab_type": "text"
      },
      "source": [
        "#복습\n",
        "\n",
        "헷갈리기 쉬운 지점은 axis=0쪽이 아래쪽이고 1이 오른쪽이라는 "
      ]
    },
    {
      "cell_type": "code",
      "metadata": {
        "id": "t1TKoY2hcubF",
        "colab_type": "code",
        "outputId": "0f162d67-99f4-459d-e773-877740e002e8",
        "colab": {
          "base_uri": "https://localhost:8080/",
          "height": 54
        }
      },
      "source": [
        "x = np.array([[1, 1], [2, 2]])\n",
        "\n",
        "print(x.sum(axis=0))\n",
        "\n",
        "print(x.sum(axis=1))"
      ],
      "execution_count": 0,
      "outputs": [
        {
          "output_type": "stream",
          "text": [
            "[3 3]\n",
            "[2 4]\n"
          ],
          "name": "stdout"
        }
      ]
    },
    {
      "cell_type": "markdown",
      "metadata": {
        "id": "p7iIxRLSctsE",
        "colab_type": "text"
      },
      "source": [
        ">### np.ndarray.min(), np.ndarray.max(), np.ndarray.argmin(), np.ndarray.argmax() "
      ]
    },
    {
      "cell_type": "code",
      "metadata": {
        "id": "WVX1_435f_69",
        "colab_type": "code",
        "outputId": "742dd27c-9b0c-44cd-f151-5998c048d7ef",
        "colab": {
          "base_uri": "https://localhost:8080/",
          "height": 90
        }
      },
      "source": [
        "x = np.array([1, 3, 2])\n",
        "\n",
        "print(x.min())\n",
        "print(x.max())\n",
        "\n",
        "print(x.argmin()) #역시나 자주 쓰임\n",
        "print(x.argmax())"
      ],
      "execution_count": 0,
      "outputs": [
        {
          "output_type": "stream",
          "text": [
            "1\n",
            "3\n",
            "0\n",
            "1\n"
          ],
          "name": "stdout"
        }
      ]
    },
    {
      "cell_type": "code",
      "metadata": {
        "id": "SHFjv8zlQr6N",
        "colab_type": "code",
        "outputId": "5d181fe7-5c72-4714-9569-247bf98913aa",
        "colab": {
          "base_uri": "https://localhost:8080/",
          "height": 54
        }
      },
      "source": [
        "x = np.array([[9,2,10,6,1],[5,7,3,4,8]])\n",
        "\n",
        "print(x.argmin(axis=0))\n",
        "print(x.argmax(axis=1))"
      ],
      "execution_count": 0,
      "outputs": [
        {
          "output_type": "stream",
          "text": [
            "[1 0 1 1 0]\n",
            "[2 4]\n"
          ],
          "name": "stdout"
        }
      ]
    },
    {
      "cell_type": "markdown",
      "metadata": {
        "id": "GnyufBHugr9N",
        "colab_type": "text"
      },
      "source": [
        ">### np.all(), np.any()"
      ]
    },
    {
      "cell_type": "code",
      "metadata": {
        "id": "XdZniBzFgsIG",
        "colab_type": "code",
        "outputId": "0ce03ff4-8533-4428-a356-f859e52b2013",
        "colab": {
          "base_uri": "https://localhost:8080/",
          "height": 54
        }
      },
      "source": [
        "print(np.all([True, True, False]))\n",
        "print(np.any([True, True, False]))"
      ],
      "execution_count": 0,
      "outputs": [
        {
          "output_type": "stream",
          "text": [
            "False\n",
            "True\n"
          ],
          "name": "stdout"
        }
      ]
    },
    {
      "cell_type": "markdown",
      "metadata": {
        "id": "4LzjzA5shFgW",
        "colab_type": "text"
      },
      "source": [
        ">### 통계 관련"
      ]
    },
    {
      "cell_type": "code",
      "metadata": {
        "id": "_lVHsslahFLX",
        "colab_type": "code",
        "outputId": "3262b643-78d5-4a56-941f-6e34e448c56f",
        "colab": {
          "base_uri": "https://localhost:8080/",
          "height": 90
        }
      },
      "source": [
        "x = np.array([1, 2, 199])\n",
        "y = np.array([[1, 2, 3], [5, 6, 1]])\n",
        "\n",
        "print(x.mean())\n",
        "\n",
        "print(np.median(x))\n",
        "print(np.median(y, axis=-1))\n",
        "\n",
        "print(x.std())"
      ],
      "execution_count": 0,
      "outputs": [
        {
          "output_type": "stream",
          "text": [
            "67.33333333333333\n",
            "2.0\n",
            "[2. 5.]\n",
            "93.10328792380119\n"
          ],
          "name": "stdout"
        }
      ]
    },
    {
      "cell_type": "markdown",
      "metadata": {
        "id": "aYiRPBpCPUba",
        "colab_type": "text"
      },
      "source": [
        "## [10] Broadcasting"
      ]
    },
    {
      "cell_type": "markdown",
      "metadata": {
        "id": "x7dHhmPZ1EwW",
        "colab_type": "text"
      },
      "source": [
        "shape이 서로 다를때 어떤 식으로 계산할 것인가.\n",
        "\n",
        "loop을 사용하지 않고 연산하는 것 -> vectorizing이라고 한다.\n",
        "\n",
        "차원의 확장에 대한 개념과 stretch에 대한 개념을 이해해야한다.\n",
        "\n",
        "하나의 스칼라값을 1차배열로도, 2차배열로도 만들 수 있다. 그러나 무작정 차원을 늘리는 것이 가능한 것은 아님.\n",
        "\n",
        "가장 높은 차원쪽에서 차원을 확장시키는 방법과 가장 깊숙한 곳에서 차원을 확장시키는 방법이 있다.\n",
        "\n",
        "요소 가장 밖을 괄호하거나, 요소 하나하나를 괄호하거나.\n",
        "\n",
        "확장된 차원의 요소의 개수는 어쨌건 하나가 된다.\n",
        "\n",
        "**stretching**\n",
        "\n",
        "```[[1, 2]]```\n",
        "\n",
        "이런 배열이 하나 있다고 하자.\n",
        "\n",
        "이걸\n",
        "\n",
        "```\n",
        "[[1, 2],\n",
        "[1, 2]]\n",
        "```\n",
        "이렇게 늘리고 싶다면? 이런 식으로 배열의 요소의 개수를 복제해서 늘리는 것을 stretch라고 한다.\n",
        "\n",
        "요소가 두개라면 stretch가 가능할까?\n",
        "\n",
        "```\n",
        "[[1, 2],\n",
        " [3. 4]]\n",
        "\n",
        "```\n",
        "이런 형태라면? \n",
        "stretch는 요소의 개수가 하나였던 애를 대상으로는 늘릴 수 있다.\n",
        "그 요소를 여러개 만드는 것이다.\n",
        "\n",
        "결국 broadcasting은 차원을 늘리는 일과 stretching을 적용해서 두개의 operand가 같은 사이즈가 되도록 할 것이다.\n",
        "\n"
      ]
    },
    {
      "cell_type": "markdown",
      "metadata": {
        "id": "KPW0YMajfhIs",
        "colab_type": "text"
      },
      "source": [
        ">### 결과 출력용 함수"
      ]
    },
    {
      "cell_type": "code",
      "metadata": {
        "id": "IfixCAMAfhey",
        "colab_type": "code",
        "colab": {}
      },
      "source": [
        "def Print_ABC(a, b, c):\n",
        "    print(\"{}, a.shape = {}\".format(a, a.shape))\n",
        "    print(\"{}, b.shape = {}\".format(b, b.shape))\n",
        "    print(\"{}, c.shape = {}\".format(c, c.shape))    "
      ],
      "execution_count": 0,
      "outputs": []
    },
    {
      "cell_type": "markdown",
      "metadata": {
        "id": "BNIT1Ha0foV3",
        "colab_type": "text"
      },
      "source": [
        ">### array + scalar"
      ]
    },
    {
      "cell_type": "markdown",
      "metadata": {
        "id": "XhX-_gI25sk7",
        "colab_type": "text"
      },
      "source": [
        "브로드캐스팅의 관점에서 얘기할 수 있다.\n",
        "\n",
        "아래의 것은 b가 먼저 [2]로 차원의 확장이 일어나고, stretch가 일어나는 것이다.\n",
        "\n",
        "> 결국 차원이 다르면 차원을 먼저 일치시켜주고 그 후에 개수를 일치시켜주는 듯\n"
      ]
    },
    {
      "cell_type": "code",
      "metadata": {
        "id": "iXwNK2lsfoCz",
        "colab_type": "code",
        "outputId": "faf24774-04bc-4f86-acf0-7d940ec4f45f",
        "colab": {
          "base_uri": "https://localhost:8080/",
          "height": 72
        }
      },
      "source": [
        "a = np.array([1, 2, 3])\n",
        "b = 2\n",
        "c = a + b\n",
        "\n",
        "Print_ABC(a, np.array(b), c)"
      ],
      "execution_count": 0,
      "outputs": [
        {
          "output_type": "stream",
          "text": [
            "[1 2 3], a.shape = (3,)\n",
            "2, b.shape = ()\n",
            "[3 4 5], c.shape = (3,)\n"
          ],
          "name": "stdout"
        }
      ]
    },
    {
      "cell_type": "markdown",
      "metadata": {
        "id": "89z1f3iHfpja",
        "colab_type": "text"
      },
      "source": [
        ">### array + array ex1"
      ]
    },
    {
      "cell_type": "markdown",
      "metadata": {
        "id": "8opO51806Fiz",
        "colab_type": "text"
      },
      "source": [
        "b를 stretch해서 요소 두개짜리로 바꿔서 처리하는 것."
      ]
    },
    {
      "cell_type": "markdown",
      "metadata": {
        "id": "RxEuXWVL_wyI",
        "colab_type": "text"
      },
      "source": [
        "# 복습\n",
        "\n",
        "이런 경우에는 어떻게 처리될까? \n",
        "\n",
        "b의 shape가 지금 a의 행 중 하나와 동일하기 떄문에 이 경우에는 broadcasting이 가능한 상황이다.\n",
        "그래서 이에 먼저 일단 차원확장이 우선적으로 일어나고 그 후 값이 stretch된다.\n"
      ]
    },
    {
      "cell_type": "code",
      "metadata": {
        "id": "ofpjPyJCfp-n",
        "colab_type": "code",
        "outputId": "3223e5b9-2153-41c6-8517-c8fd5ef5509e",
        "colab": {
          "base_uri": "https://localhost:8080/",
          "height": 145
        }
      },
      "source": [
        "a = np.array([[1, 2, 3],[4, 5, 6]])\n",
        "b = np.array([1, 2, 3])\n",
        "c = a + b\n",
        "# 예를 들어서 한반의 구성원은 2명, 다른 반의 구성원은 한명이라고 하고 (그게 a, b라고 해보자.) 이 두 반의 점수를 평균 내야한다면?\n",
        "# 사실 sum으로 처리하겠지...\n",
        "\n",
        "print(np.sum(a) + np.sum(b))\n",
        "\n",
        "Print_ABC(a, b, c)"
      ],
      "execution_count": 0,
      "outputs": [
        {
          "output_type": "stream",
          "text": [
            "ddddddd\n",
            "27\n",
            "[[1 2 3]\n",
            " [4 5 6]], a.shape = (2, 3)\n",
            "[1 2 3], b.shape = (3,)\n",
            "[[2 4 6]\n",
            " [5 7 9]], c.shape = (2, 3)\n"
          ],
          "name": "stdout"
        }
      ]
    },
    {
      "cell_type": "markdown",
      "metadata": {
        "id": "X5FDsdcxfqRJ",
        "colab_type": "text"
      },
      "source": [
        ">### array + array ex2"
      ]
    },
    {
      "cell_type": "markdown",
      "metadata": {
        "id": "nFTicRKZ6y26",
        "colab_type": "text"
      },
      "source": [
        "일단 차원을 한번 확장. (1, 4)로 만들고\n",
        "그걸 stretch해서 2행짜리로 만드는 것.\n",
        "\n",
        "그리고 b는 열의 사이즈를 4로 스트레칭하는 것. \n"
      ]
    },
    {
      "cell_type": "code",
      "metadata": {
        "id": "YqwNppPDfsCR",
        "colab_type": "code",
        "outputId": "1749f0a2-c90e-4ac9-b029-df58f57acee5",
        "colab": {
          "base_uri": "https://localhost:8080/",
          "height": 108
        }
      },
      "source": [
        "a = np.array([1, 2, 3, 4])  \n",
        "b = np.array([[1], [2]])\n",
        "c = a + b\n",
        "\n",
        "Print_ABC(a, b, c)"
      ],
      "execution_count": 0,
      "outputs": [
        {
          "output_type": "stream",
          "text": [
            "[1 2 3 4], a.shape = (4,)\n",
            "[[1]\n",
            " [2]], b.shape = (2, 1)\n",
            "[[2 3 4 5]\n",
            " [3 4 5 6]], c.shape = (2, 4)\n"
          ],
          "name": "stdout"
        }
      ]
    },
    {
      "cell_type": "markdown",
      "metadata": {
        "id": "izcwywyjftEX",
        "colab_type": "text"
      },
      "source": [
        ">### array + array ex3"
      ]
    },
    {
      "cell_type": "markdown",
      "metadata": {
        "id": "9sDuNiDR7Vgs",
        "colab_type": "text"
      },
      "source": [
        "\n",
        "\n",
        "> 쉽게 생각해서 앞 뒤를 같은 값으로 맞춰준다고 생각하면 될듯.\n",
        "이 때 앞 뒤가 같은 값으로 맞춰질 수 있는지를 판별해주고, 판별 결과 가능하다고 하면 진행\n",
        "\n",
        "\n",
        "\n"
      ]
    },
    {
      "cell_type": "code",
      "metadata": {
        "id": "9D9W6CrcftiQ",
        "colab_type": "code",
        "outputId": "69a13dbf-c76b-4764-d75a-acc955d75d59",
        "colab": {
          "base_uri": "https://localhost:8080/",
          "height": 181
        }
      },
      "source": [
        "a = np.array([[1], [2], [3], [4]]) #shape가 (4, 1)\n",
        "b = np.array([1, 2, 3]) # shape가 (3, ) -> 1행이니까 4행으로 먼저 맞춰준다. \n",
        "c = a + b\n",
        "\n",
        "Print_ABC(a, b, c)"
      ],
      "execution_count": 0,
      "outputs": [
        {
          "output_type": "stream",
          "text": [
            "[[1]\n",
            " [2]\n",
            " [3]\n",
            " [4]], a.shape = (4, 1)\n",
            "[1 2 3], b.shape = (3,)\n",
            "[[2 3 4]\n",
            " [3 4 5]\n",
            " [4 5 6]\n",
            " [5 6 7]], c.shape = (4, 3)\n"
          ],
          "name": "stdout"
        }
      ]
    },
    {
      "cell_type": "markdown",
      "metadata": {
        "id": "MaEcW4tlPcoe",
        "colab_type": "text"
      },
      "source": [
        "## [11] Array Manipulation"
      ]
    },
    {
      "cell_type": "markdown",
      "metadata": {
        "id": "KljKZeCz8q0E",
        "colab_type": "text"
      },
      "source": [
        "데이터들을 쭉 평탄화시키고 싶다면? 즉 행 하나로 늘여뜨리고 싶다면 이를 Flatten하게 만든다고 한다.\n",
        "\n",
        "메모리 상의 변화는 없음. 그냥 shape만 바뀐다.\n",
        "\n",
        "아래의 함수 사용할..일...없음...\n",
        "\n",
        "flattening할 일은 많은데, 실제로 저 함수를 굳이 사용하느냐, 하면 아니라고..."
      ]
    },
    {
      "cell_type": "markdown",
      "metadata": {
        "id": "2vEnp2JHhiwG",
        "colab_type": "text"
      },
      "source": [
        ">### Flattening : np.ndarry.ravel()"
      ]
    },
    {
      "cell_type": "code",
      "metadata": {
        "id": "grMWgt62hiaH",
        "colab_type": "code",
        "colab": {}
      },
      "source": [
        "a = np.array([[1, 2, 3], [4, 5, 6]])\n",
        "\n",
        "print(a.ravel())"
      ],
      "execution_count": 0,
      "outputs": []
    },
    {
      "cell_type": "markdown",
      "metadata": {
        "id": "FFuG3Xzah8sA",
        "colab_type": "text"
      },
      "source": [
        ">### Reshaping : np.ndarray.reshape\n",
        "#### ndarray.reshape may return a view (cf help(np.reshape))), or copy"
      ]
    },
    {
      "cell_type": "markdown",
      "metadata": {
        "id": "luAWdGHG9QfR",
        "colab_type": "text"
      },
      "source": [
        "2행 3열짜리 배열에서 a배열을 reshape해서 사용하겠다는 것.\n",
        "\n",
        "6행 1열짜리로 바꾼다고 생각해보자. 메모리의 구조는 바뀌지 않으면서 shape만 바꾸는 것. \n",
        "\n",
        "reshape은 그때 그때 결과가 다르다고..."
      ]
    },
    {
      "cell_type": "code",
      "metadata": {
        "id": "XYZAwO6Th8c_",
        "colab_type": "code",
        "outputId": "66b9dcb0-a7c4-45da-999b-e877a0f21ef1",
        "colab": {
          "base_uri": "https://localhost:8080/",
          "height": 35
        }
      },
      "source": [
        "a = np.array([[1, 2, 3], [4, 5, 6]])\n",
        "\n",
        "b = a.reshape((6, 1))\n",
        "print(b)\n",
        "\n",
        "c = a.reshape((3, 2))\n",
        "print(c)\n",
        "\n",
        "print(a.reshape((-1,))) # -1을 사용했다 => 다른 차원의 사이즈와 맞춰서 알아서 정하라는 것. 그래서 flatten할 때도 이걸 사용..."
      ],
      "execution_count": 0,
      "outputs": [
        {
          "output_type": "stream",
          "text": [
            "[1 2 3 4 5 6 1 3 4]\n"
          ],
          "name": "stdout"
        }
      ]
    },
    {
      "cell_type": "code",
      "metadata": {
        "id": "yY-ukgG9jwvv",
        "colab_type": "code",
        "outputId": "b03a31c5-5aa6-4cef-e526-aaf11798f52b",
        "colab": {
          "base_uri": "https://localhost:8080/",
          "height": 72
        }
      },
      "source": [
        "a.reshape((2, -1))"
      ],
      "execution_count": 0,
      "outputs": [
        {
          "output_type": "execute_result",
          "data": {
            "text/plain": [
              "array([[1, 2, 3],\n",
              "       [4, 5, 6],\n",
              "       [1, 3, 4]])"
            ]
          },
          "metadata": {
            "tags": []
          },
          "execution_count": 16
        }
      ]
    },
    {
      "cell_type": "markdown",
      "metadata": {
        "id": "y2ujbiKObdb0",
        "colab_type": "text"
      },
      "source": [
        ">### Transpose"
      ]
    },
    {
      "cell_type": "markdown",
      "metadata": {
        "id": "4e7AX8K8_N5D",
        "colab_type": "text"
      },
      "source": [
        "a는 transpose한다고 바뀌진 않음"
      ]
    },
    {
      "cell_type": "markdown",
      "metadata": {
        "id": "43F-TL8j__ha",
        "colab_type": "text"
      },
      "source": [
        "보통 transpose를 사용하는 이유?\n",
        "\n",
        "어떤 데이터를 분류하고 싶은데 이미지 데이터를 분류하고 싶다면...?\n",
        "\n",
        "행, 열, 채널 순으로 짜인 것을 채널, 행, 열 순으로 받고 싶다면?\n",
        "\n",
        "다차로 가게 되면 transpose를 할 때, n번 축을 기존의 몇번 축으로 대체할 것인가를 기정해서 transpose시킬 수 있다. \n",
        "\n",
        "axis(대체하고 싶은 축 번호, 번호, 번호...) 꼴로 가능\n",
        "\n",
        "보통 딥러닝 개발자들은 암묵적으로 4차배열의 이미지를 받길 바람.\n",
        "\n",
        "(Batch size , 채널, 행, 열)\n",
        "\n",
        "Batch Size? 그림 데이터여러개 줄 때 그림의 개수가 들어가게 되는 것.\n",
        "\n",
        "이런 식으로 데이터를 줄 때 그림이 하나면 앞쪽으로 하나 늘리고 4차로 만들어서 처리함."
      ]
    },
    {
      "cell_type": "code",
      "metadata": {
        "id": "BOg7jCRQbdnR",
        "colab_type": "code",
        "outputId": "5e31aeb9-8426-413d-d62a-6f820bfdd88e",
        "colab": {
          "base_uri": "https://localhost:8080/",
          "height": 245
        }
      },
      "source": [
        "a = np.array([[1,2,3],[4,5,6],[7,8,9]])\n",
        "\n",
        "\n",
        "print(a)\n",
        "print(a.transpose()) # 2차일때는 별도의 매개변수 줄 것이 없다. 0<=>1 뒤집기 외에 선택지가 없기 때문\n",
        "print(a.T)\n",
        "print(a)\n",
        "print(b.shape)"
      ],
      "execution_count": 0,
      "outputs": [
        {
          "output_type": "error",
          "ename": "NameError",
          "evalue": "ignored",
          "traceback": [
            "\u001b[0;31m---------------------------------------------------------------------------\u001b[0m",
            "\u001b[0;31mNameError\u001b[0m                                 Traceback (most recent call last)",
            "\u001b[0;32m<ipython-input-27-53a421584291>\u001b[0m in \u001b[0;36m<module>\u001b[0;34m()\u001b[0m\n\u001b[1;32m      1\u001b[0m \u001b[0ma\u001b[0m \u001b[0;34m=\u001b[0m \u001b[0mnp\u001b[0m\u001b[0;34m.\u001b[0m\u001b[0marray\u001b[0m\u001b[0;34m(\u001b[0m\u001b[0;34m[\u001b[0m\u001b[0;34m[\u001b[0m\u001b[0;36m1\u001b[0m\u001b[0;34m,\u001b[0m\u001b[0;36m2\u001b[0m\u001b[0;34m,\u001b[0m\u001b[0;36m3\u001b[0m\u001b[0;34m]\u001b[0m\u001b[0;34m,\u001b[0m\u001b[0;34m[\u001b[0m\u001b[0;36m4\u001b[0m\u001b[0;34m,\u001b[0m\u001b[0;36m5\u001b[0m\u001b[0;34m,\u001b[0m\u001b[0;36m6\u001b[0m\u001b[0;34m]\u001b[0m\u001b[0;34m,\u001b[0m\u001b[0;34m[\u001b[0m\u001b[0;36m7\u001b[0m\u001b[0;34m,\u001b[0m\u001b[0;36m8\u001b[0m\u001b[0;34m,\u001b[0m\u001b[0;36m9\u001b[0m\u001b[0;34m]\u001b[0m\u001b[0;34m]\u001b[0m\u001b[0;34m)\u001b[0m\u001b[0;34m\u001b[0m\u001b[0;34m\u001b[0m\u001b[0m\n\u001b[0;32m----> 2\u001b[0;31m \u001b[0mb\u001b[0m \u001b[0;34m=\u001b[0m \u001b[0mnp\u001b[0m\u001b[0;34m,\u001b[0m\u001b[0marray\u001b[0m\u001b[0;34m(\u001b[0m\u001b[0;34m[\u001b[0m\u001b[0;34m[\u001b[0m\u001b[0;34m[\u001b[0m\u001b[0;36m1\u001b[0m\u001b[0;34m,\u001b[0m \u001b[0;36m1\u001b[0m\u001b[0;34m]\u001b[0m\u001b[0;34m,\u001b[0m \u001b[0;34m[\u001b[0m\u001b[0;36m2\u001b[0m\u001b[0;34m,\u001b[0m \u001b[0;36m2\u001b[0m\u001b[0;34m]\u001b[0m\u001b[0;34m]\u001b[0m\u001b[0;34m,\u001b[0m\u001b[0;34m[\u001b[0m\u001b[0;34m[\u001b[0m\u001b[0;36m3\u001b[0m\u001b[0;34m,\u001b[0m \u001b[0;36m3\u001b[0m\u001b[0;34m]\u001b[0m\u001b[0;34m,\u001b[0m\u001b[0;34m[\u001b[0m\u001b[0;36m4\u001b[0m\u001b[0;34m,\u001b[0m \u001b[0;36m4\u001b[0m\u001b[0;34m]\u001b[0m\u001b[0;34m]\u001b[0m\u001b[0;34m]\u001b[0m\u001b[0;34m)\u001b[0m\u001b[0;34m\u001b[0m\u001b[0;34m\u001b[0m\u001b[0m\n\u001b[0m\u001b[1;32m      3\u001b[0m \u001b[0;34m\u001b[0m\u001b[0m\n\u001b[1;32m      4\u001b[0m \u001b[0mprint\u001b[0m\u001b[0;34m(\u001b[0m\u001b[0ma\u001b[0m\u001b[0;34m)\u001b[0m\u001b[0;34m\u001b[0m\u001b[0;34m\u001b[0m\u001b[0m\n\u001b[1;32m      5\u001b[0m \u001b[0mprint\u001b[0m\u001b[0;34m(\u001b[0m\u001b[0ma\u001b[0m\u001b[0;34m.\u001b[0m\u001b[0mtranspose\u001b[0m\u001b[0;34m(\u001b[0m\u001b[0;34m)\u001b[0m\u001b[0;34m)\u001b[0m \u001b[0;31m# 2차일때는 별도의 매개변수 줄 것이 없다. 0<=>1 뒤집기 외에 선택지가 없기 때문\u001b[0m\u001b[0;34m\u001b[0m\u001b[0;34m\u001b[0m\u001b[0m\n",
            "\u001b[0;31mNameError\u001b[0m: name 'array' is not defined"
          ]
        }
      ]
    },
    {
      "cell_type": "markdown",
      "metadata": {
        "id": "0KFkbpSeof7i",
        "colab_type": "text"
      },
      "source": [
        "> ### Dimension shuffling"
      ]
    },
    {
      "cell_type": "code",
      "metadata": {
        "id": "1CjP6th3ofnY",
        "colab_type": "code",
        "colab": {}
      },
      "source": [
        "a = np.arange(4*3*2).reshape((4, 3, 2))+1\n",
        "\n",
        "print(a[0, 2, 1])\n",
        "\n",
        "b = a.transpose((1, 2, 0))\n",
        "print(b.shape)\n",
        "print(b[2, 1, 0])"
      ],
      "execution_count": 0,
      "outputs": []
    }
  ]
}