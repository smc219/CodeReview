{
  "nbformat": 4,
  "nbformat_minor": 0,
  "metadata": {
    "colab": {
      "name": "2부_2과_TensorFlow_Programming.ipynb",
      "provenance": [],
      "collapsed_sections": [],
      "include_colab_link": true
    },
    "kernelspec": {
      "name": "python3",
      "display_name": "Python 3"
    },
    "accelerator": "GPU"
  },
  "cells": [
    {
      "cell_type": "markdown",
      "metadata": {
        "id": "view-in-github",
        "colab_type": "text"
      },
      "source": [
        "<a href=\"https://colab.research.google.com/github/smc219/CodeReview/blob/master/tensor/2%EB%B6%80_2%EA%B3%BC_TensorFlow_Programming.ipynb\" target=\"_parent\"><img src=\"https://colab.research.google.com/assets/colab-badge.svg\" alt=\"Open In Colab\"/></a>"
      ]
    },
    {
      "cell_type": "markdown",
      "metadata": {
        "id": "ERQax80Nl2fY",
        "colab_type": "text"
      },
      "source": [
        "# Chapter2. TensorFlow 기초"
      ]
    },
    {
      "cell_type": "markdown",
      "metadata": {
        "id": "pxztwlHWGQea",
        "colab_type": "text"
      },
      "source": [
        "TensorFlow란 무엇인가...\n",
        "\n",
        "메인으로 많이 사용하는 것은 Python 기반.\n",
        "\n",
        "실행 환경 역시 중요. 머신러닝 프로그램은 항상 연산량이 많이 요구되기 때문에 그런 환경이 필요하다고 생각함.\n",
        "\n",
        "근데 요즘 hand held기기들을 많이 사용. 지금까지는 사용자 hand held에서 데이터를 수집하고, 메인 서버에서 그걸 처리하고 hand held로 보내는 모델들을 지금까지는 많이 씀.\n",
        "\n",
        "근데 요즘들어서 handheld의 컴퓨팅 파워가 점차로 괜찮아짐.\n",
        "\n",
        "TensorFlow Light와 같은 것도 이제 쓴다고...\n",
        "\n",
        "머신러닝을 그래프의 형태로 만든다,,,?\n",
        "\n",
        "이렇게 만들어진 그래프를 runtime을 사용해서 만든다. 이러한 개념을 익히고 session을 통해서 수행한다.\n",
        "\n",
        "high level쪽에서 제공하는 component를 low level에서도 쓸 줄 알아야한다고...\n",
        "\n",
        "그리고 가장 중요한 건 Training loop를 형성해야한다.\n",
        "\n",
        "근데 사실 low level api만 사용해서 개발하는 것을 권장하지 않음.\n",
        "higher level API를 가능하면 사용할 것을 권장하고 있다.\n",
        "\n",
        "그런데 왜 low level을 공부해야하는가? 처음부터 high level api들로 들어가면 굉장히 재밌다. \n",
        "\n",
        "문제는 이걸로 스타트를 하면 그 프로그램이 무슨 짓을 하는지에 대해서는 이해하기 어렵다..\n",
        "\n",
        "초급 과정의 목표는 low level의 api를 이해하고, 직접 프로그래밍을 만들 것.\n",
        "\n",
        "텐서플로우 프로그래밍을 하는 방법, 즉 머신러닝 모델이 연산을 해가는 과정을 그래프로 표현하는데, 이 그래프를 정의하는 방법에 대해서 배워야하고 이를 실행시킬 수 있어야 함.\n",
        "\n",
        "그래프를 빌드했다고 해서 연산이 진행되는 것은 아니다. 그래프의 모양 정도를 만든다고 생각하면 된다.\n",
        "\n",
        "그럼 결국엔 무얼해야할까? 실행을 시켜봐야 함. 이걸 tf.session이라는걸 이용해서 한다고,.,\n",
        "\n",
        "그래프. 노드와 엣지에 의해서 구성이 된다. \n",
        "\n",
        "tf.Operation이나 tf.ops로 줄여서 얘기하기도 함.\n",
        "\n",
        "이걸 노드의 개념이라고 생각하면 된다. Tensor를 입력 받아서 계산하는 녀석이다.\n",
        "\n",
        "tf.Tensor라고 불리우는건 그래프의 Edge이고, 그래프에 흐르게 될 데이터를 표현하는 것이다.\n",
        "\n",
        "edge에 의해서 데이터의 흐름의 관계가 표시된다.\n",
        "\n",
        "대부분의 TensorFlow함수는 tf.Tensor를 생성한다.\n",
        "대부분 리턴하는 것들이 Tensor를 리턴한다. "
      ]
    },
    {
      "cell_type": "markdown",
      "metadata": {
        "id": "sGzEW49-Ptwy",
        "colab_type": "text"
      },
      "source": [
        " ## 2-2 TensorFlow Programming"
      ]
    },
    {
      "cell_type": "markdown",
      "metadata": {
        "id": "KpDie0bRwzEe",
        "colab_type": "text"
      },
      "source": [
        "> ### Import TensorFlow"
      ]
    },
    {
      "cell_type": "code",
      "metadata": {
        "id": "gXxAYyqxlNxp",
        "colab_type": "code",
        "outputId": "25f3304b-2bb2-4461-ef3f-a7a8ffe32c7c",
        "colab": {
          "base_uri": "https://localhost:8080/",
          "height": 54
        }
      },
      "source": [
        "%tensorflow_version 1.x\n",
        "\n",
        "import numpy as np\n",
        "import tensorflow as tf\n",
        "\n",
        "print(\"NumPy Version : {}\".format(np.__version__))\n",
        "print(\"TensorFlow Version : {}\".format(tf.__version__)) # 버전 출력. 모듈이 꽤 크기 때문에 뻗은건지 모듈이 로딩중인지 구별이 잘 안감\n",
        "# 이걸 확인하기 위해서 print문 같은 것 하나를 log 개념으로 사용한다. "
      ],
      "execution_count": 0,
      "outputs": [
        {
          "output_type": "stream",
          "text": [
            "NumPy Version : 1.17.4\n",
            "TensorFlow Version : 1.15.0\n"
          ],
          "name": "stdout"
        }
      ]
    },
    {
      "cell_type": "markdown",
      "metadata": {
        "id": "WNrALKmF5-ST",
        "colab_type": "text"
      },
      "source": [
        "> ### Example TensorFlow Program "
      ]
    },
    {
      "cell_type": "markdown",
      "metadata": {
        "id": "BiG6mc7xBxWS",
        "colab_type": "text"
      },
      "source": [
        ""
      ]
    },
    {
      "cell_type": "code",
      "metadata": {
        "id": "njxkAbETnKjh",
        "colab_type": "code",
        "outputId": "dda4672d-ca34-4d28-ad97-fc76971f5ba4",
        "colab": {
          "base_uri": "https://localhost:8080/",
          "height": 90
        }
      },
      "source": [
        "out_add = tf.add(3,4)\n",
        "out_multiply = tf.multiply(out_add, 10) # 이 단계에서 computational graph가 만들어진다. \n",
        "\n",
        "print(\"out_add = {}\".format(out_add))\n",
        "print(\"out_multiply = {}\\n\".format(out_multiply))\n",
        "\n",
        "with tf.Session() as sess:\n",
        "  res = sess.run(out_multiply) # out_multiply의 결과를 얻고 싶다는 것. 넘겨준 매개변수 텐서들의 결과가 넘겨준 순서대로 나옴\n",
        "\n",
        "# 연산의 결과가 나오는 것이 아님. \n",
        "\n",
        "print(\"res = {}\".format(res))"
      ],
      "execution_count": 0,
      "outputs": [
        {
          "output_type": "stream",
          "text": [
            "out_add = Tensor(\"Add:0\", shape=(), dtype=int32)\n",
            "out_multiply = Tensor(\"Mul:0\", shape=(), dtype=int32)\n",
            "\n",
            "res = 70\n"
          ],
          "name": "stdout"
        }
      ]
    }
  ]
}